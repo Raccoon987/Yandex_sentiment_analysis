{
 "cells": [
  {
   "cell_type": "code",
   "execution_count": 6,
   "metadata": {
    "collapsed": true
   },
   "outputs": [],
   "source": [
    "import numpy as np\n",
    "import pandas as pd\n",
    "from sklearn.feature_extraction.text import TfidfTransformer, CountVectorizer\n",
    "from sklearn.svm import LinearSVC\n",
    "from sklearn.utils import shuffle\n",
    "from sklearn.pipeline import Pipeline\n",
    "import os\n",
    "\n",
    "import pickle"
   ]
  },
  {
   "cell_type": "code",
   "execution_count": 7,
   "metadata": {
    "collapsed": true
   },
   "outputs": [],
   "source": [
    "from sklearn.externals import joblib"
   ]
  },
  {
   "cell_type": "code",
   "execution_count": 8,
   "metadata": {
    "collapsed": true
   },
   "outputs": [],
   "source": [
    "f = lambda f_name: os.path.realpath(os.path.join(os.getcwd(), f_name)).replace('\\\\', '/')"
   ]
  },
  {
   "cell_type": "code",
   "execution_count": 9,
   "metadata": {},
   "outputs": [],
   "source": [
    "train = pd.read_csv(f(\"final.csv\"), header = 0, sep=\"\\t\")"
   ]
  },
  {
   "cell_type": "code",
   "execution_count": 13,
   "metadata": {
    "collapsed": true
   },
   "outputs": [],
   "source": [
    "train_text = train['review_text']\n",
    "train_label = train['label']"
   ]
  },
  {
   "cell_type": "code",
   "execution_count": 5,
   "metadata": {
    "collapsed": true
   },
   "outputs": [],
   "source": [
    "#function that returns trained classifier object \n",
    "def my_classifier(text, label):\n",
    "    #prod_sentim_train = pd.read_csv(\"products_sentiment_train.tsv\", names = [\"text\", \"label\"], header = 0, sep=\"\\t\")\n",
    "    #zero_test_ind = prod_sentim_train[prod_sentim_train[\"label\"] == 0]\n",
    "    #new_prod_sentim_train = shuffle(prod_sentim_train.append(prod_sentim_train.ix[list(zero_test_ind.index[:500])]), random_state=10)\n",
    "\n",
    "    def text_classifier(vectorizer, transformer, classifier):\n",
    "        return Pipeline(\n",
    "                [(\"vectorizer\", vectorizer),\n",
    "                (\"transformer\", transformer),\n",
    "                (\"classifier\", classifier)]\n",
    "            )\n",
    "\n",
    "    Lin_SVC = text_classifier(vectorizer=CountVectorizer(min_df=1, ngram_range=(1, 2), max_df=0.85, stop_words=None), \n",
    "                    transformer=TfidfTransformer(norm = 'l2', smooth_idf = True, use_idf = True, sublinear_tf = True), \n",
    "                    classifier=LinearSVC(max_iter=400, loss='squared_hinge', C= 1.0, tol=1e-05, random_state=1))\n",
    "\n",
    "    Lin_SVC.fit(text, label)\n",
    "\n",
    "    return Lin_SVC    "
   ]
  },
  {
   "cell_type": "code",
   "execution_count": 21,
   "metadata": {},
   "outputs": [],
   "source": [
    "cls = my_classifier(train_text, train_label)\n",
    "print(cls)"
   ]
  },
  {
   "cell_type": "code",
   "execution_count": 7,
   "metadata": {
    "collapsed": true
   },
   "outputs": [],
   "source": [
    "#pickle lib to save to file trained classifier object\n",
    "#write to file serilized object to file; protocol=3 for python 3\n",
    "with open(f('dumped_lin_SVC_classifier.pkl'), 'wb') as fl:\n",
    "    pickle.dump(cls, fl)"
   ]
  },
  {
   "cell_type": "code",
   "execution_count": 20,
   "metadata": {},
   "outputs": [],
   "source": [
    "model = joblib.load(f(\"dumped_lin_SVC_classifier.pkl\"))"
   ]
  },
  {
   "cell_type": "code",
   "execution_count": 22,
   "metadata": {},
   "outputs": [],
   "source": [
    "print(model)"
   ]
  },
  {
   "cell_type": "code",
   "execution_count": null,
   "metadata": {
    "collapsed": true
   },
   "outputs": [],
   "source": []
  },
  {
   "cell_type": "code",
   "execution_count": 23,
   "metadata": {},
   "outputs": [],
   "source": [
    "''' check check whether the text is written with symbols in ascii '''\n",
    "for i in range(10):\n",
    "    print((lambda s: all(ord(c) < 128 for c in s))(train_text.iloc[i]))\n",
    "#return False because reviews are in сyrillic alphabet    "
   ]
  },
  {
   "cell_type": "code",
   "execution_count": null,
   "metadata": {
    "collapsed": true
   },
   "outputs": [],
   "source": []
  }
 ],
 "metadata": {
  "kernelspec": {
   "display_name": "Python 3",
   "language": "python",
   "name": "python3"
  },
  "language_info": {
   "codemirror_mode": {
    "name": "ipython",
    "version": 3
   },
   "file_extension": ".py",
   "mimetype": "text/x-python",
   "name": "python",
   "nbconvert_exporter": "python",
   "pygments_lexer": "ipython3",
   "version": "3.5.4"
  }
 },
 "nbformat": 4,
 "nbformat_minor": 2
}
