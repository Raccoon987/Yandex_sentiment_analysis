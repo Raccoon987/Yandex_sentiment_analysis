{
 "metadata": {
  "kernelspec": {
   "display_name": "Python 3",
   "language": "python",
   "name": "python3"
  },
  "language_info": {
   "codemirror_mode": {
    "name": "ipython",
    "version": 3
   },
   "file_extension": ".py",
   "mimetype": "text/x-python",
   "name": "python",
   "nbconvert_exporter": "python",
   "pygments_lexer": "ipython3",
   "version": "3.5.4"
  },
  "name": ""
 },
 "nbformat": 3,
 "nbformat_minor": 0,
 "worksheets": [
  {
   "cells": [
    {
     "cell_type": "code",
     "collapsed": true,
     "input": [
      "from nltk.corpus import movie_reviews as mr\n",
      "from collections import defaultdict\n",
      "\n",
      "import numpy as np\n",
      "import pandas as pd\n",
      "\n",
      "from sklearn import metrics\n",
      "from sklearn.grid_search import GridSearchCV\n",
      "\n",
      "# modules for feature creation on texts\n",
      "from sklearn.feature_extraction.text import TfidfTransformer, CountVectorizer, TfidfVectorizer\n",
      "from sklearn.linear_model import LogisticRegression, SGDClassifier\n",
      "from sklearn.svm import LinearSVC\n",
      "from sklearn.cross_validation import cross_val_score\n",
      "from sklearn.pipeline import Pipeline"
     ],
     "language": "python",
     "metadata": {},
     "outputs": [],
     "prompt_number": 3
    },
    {
     "cell_type": "heading",
     "level": 4,
     "metadata": {},
     "source": [
      "CountVectorizer => Convert a collection of text documents to a matrix of token counts <br> TfidfTransformer => Transform a count matrix to a normalized tf or tf-idf representation <br> TfidfVectorizer => Convert a collection of raw documents to a matrix of TF-IDF features. Equivalent to CountVectorizer followed by TfidfTransformer <br> SGDClassifier => Linear classifiers (SVM, logistic regression, a.o.) with SGD training <br> LinearSVC => Linear Support Vector Classification <br> Pipeline => Pipeline of transforms with a final estimator"
     ]
    },
    {
     "cell_type": "code",
     "collapsed": false,
     "input": [
      "print(mr)\n",
      "print(mr.__doc__)"
     ],
     "language": "python",
     "metadata": {},
     "outputs": [],
     "prompt_number": 5
    },
    {
     "cell_type": "code",
     "collapsed": false,
     "input": [
      "print(dir(mr))"
     ],
     "language": "python",
     "metadata": {},
     "outputs": [],
     "prompt_number": 6
    },
    {
     "cell_type": "heading",
     "level": 5,
     "metadata": {},
     "source": [
      "first way to get positive and negative reviews "
     ]
    },
    {
     "cell_type": "code",
     "collapsed": false,
     "input": [
      "documents = defaultdict(list)\n",
      "\n",
      "for i in mr.fileids():\n",
      "    documents[i.split('/')[0]].append(i)\n",
      "\n",
      "print(documents['pos'][:10]) # first ten pos reviews.\n",
      "print(\" \")\n",
      "print(documents['neg'][:10]) # first ten neg reviews."
     ],
     "language": "python",
     "metadata": {},
     "outputs": [],
     "prompt_number": 5
    },
    {
     "cell_type": "code",
     "collapsed": false,
     "input": [
      "print(\" \".join(mr.words(fileids=[documents['neg'][1]])), end=\" \")"
     ],
     "language": "python",
     "metadata": {},
     "outputs": [],
     "prompt_number": 7
    },
    {
     "cell_type": "heading",
     "level": 5,
     "metadata": {},
     "source": [
      "second way to get positive and negative reviews and their labels"
     ]
    },
    {
     "cell_type": "code",
     "collapsed": false,
     "input": [
      "negids = mr.fileids('neg')\n",
      "posids = mr.fileids('pos')\n",
      "\n",
      "negfeats = [\" \".join(mr.words(fileids=[f])) for f in negids]\n",
      "posfeats = [\" \".join(mr.words(fileids=[f])) for f in posids]\n",
      "\n",
      "texts = negfeats + posfeats\n",
      "labels = [0] * len(negfeats) + [1] * len(posfeats)\n",
      "\n",
      "print(texts[1])"
     ],
     "language": "python",
     "metadata": {},
     "outputs": [],
     "prompt_number": 9
    },
    {
     "cell_type": "code",
     "collapsed": false,
     "input": [
      "print(\"total amount of reviews: \", len(labels))\n",
      "print(\"fraction of class 1 in dataset: \", float(len(posfeats))/len(labels))"
     ],
     "language": "python",
     "metadata": {},
     "outputs": [],
     "prompt_number": 10
    },
    {
     "cell_type": "code",
     "collapsed": true,
     "input": [
      "token_counts = CountVectorizer()\n",
      "token_matrix = token_counts.fit_transform(texts)"
     ],
     "language": "python",
     "metadata": {},
     "outputs": [],
     "prompt_number": 20
    },
    {
     "cell_type": "heading",
     "level": 4,
     "metadata": {},
     "source": [
      "try to select parameters for CountVectorizer"
     ]
    },
    {
     "cell_type": "code",
     "collapsed": false,
     "input": [
      "pipeline_ = Pipeline(steps = [(\"vectorizer\", CountVectorizer()), (\"classifier\", LogisticRegression())])\n",
      "pipeline_.get_params().keys()"
     ],
     "language": "python",
     "metadata": {},
     "outputs": [],
     "prompt_number": 12
    },
    {
     "cell_type": "markdown",
     "metadata": {},
     "source": [
      "#### select parameters from: 'vectorizer__max_df' : [0.85, 0.9, 0.95, 1.0],     'vectorizer__min_df' : [1, 10, 20, 30],      'vectorizer__ngram_range' : [(1, 1), (1, 2)]\n",
      "#### vectorizer__max_df - if word appears more than in 85, 90, 95, 100% of documents - discard this word; vectorizer__min_df - if word appears less often than in 1, 10, 20, 30 documents - discard this word; vectorizer__ngram_range - build dictionary using single words or involving bigrames\n",
      "\n",
      "#### scoring = 'accuracy', 'roc_auc'"
     ]
    },
    {
     "cell_type": "code",
     "collapsed": true,
     "input": [
      "parameters_grid = {\n",
      "    'vectorizer__max_df' : [0.85, 0.9, 0.95, 1.0],\n",
      "    'vectorizer__min_df' : [1, 10, 20, 30], \n",
      "    'vectorizer__ngram_range' : [(1, 1), (1, 2)],\n",
      "}"
     ],
     "language": "python",
     "metadata": {},
     "outputs": [],
     "prompt_number": 12
    },
    {
     "cell_type": "code",
     "collapsed": false,
     "input": [
      "%%time\n",
      "grid_cv = GridSearchCV(pipeline_, parameters_grid, scoring = 'accuracy', cv = 4)\n",
      "grid_cv.fit(texts, labels)"
     ],
     "language": "python",
     "metadata": {},
     "outputs": [],
     "prompt_number": 22
    },
    {
     "cell_type": "code",
     "collapsed": false,
     "input": [
      "print(grid_cv.best_score_)\n",
      "print(grid_cv.best_params_)"
     ],
     "language": "python",
     "metadata": {},
     "outputs": [],
     "prompt_number": 23
    },
    {
     "cell_type": "code",
     "collapsed": true,
     "input": [
      "grid_cv_ = GridSearchCV(pipeline_, parameters_grid, scoring = 'roc_auc', cv = 4)"
     ],
     "language": "python",
     "metadata": {},
     "outputs": [],
     "prompt_number": 14
    },
    {
     "cell_type": "code",
     "collapsed": false,
     "input": [
      "%%time\n",
      "grid_cv_.fit(texts, labels)"
     ],
     "language": "python",
     "metadata": {},
     "outputs": [],
     "prompt_number": 15
    },
    {
     "cell_type": "code",
     "collapsed": false,
     "input": [
      "print(grid_cv_.best_score_)\n",
      "print(grid_cv_.best_params_)"
     ],
     "language": "python",
     "metadata": {},
     "outputs": [],
     "prompt_number": 16
    },
    {
     "cell_type": "code",
     "collapsed": true,
     "input": [],
     "language": "python",
     "metadata": {},
     "outputs": [],
     "prompt_number": null
    },
    {
     "cell_type": "heading",
     "level": 4,
     "metadata": {},
     "source": [
      "transforme reviews into features matrix (num of document x num of word) filled with numbers that represents how many times this word occurs in this document"
     ]
    },
    {
     "cell_type": "code",
     "collapsed": false,
     "input": [
      "print(type(token_matrix[0]))\n",
      "print(token_matrix[0])"
     ],
     "language": "python",
     "metadata": {},
     "outputs": [],
     "prompt_number": 36
    },
    {
     "cell_type": "heading",
     "level": 4,
     "metadata": {},
     "source": [
      "2000 reviews and 39659 distinct words"
     ]
    },
    {
     "cell_type": "code",
     "collapsed": false,
     "input": [
      "print(token_matrix.shape)\n",
      "print(token_matrix[0].shape)\n",
      "print(token_matrix[1].shape)"
     ],
     "language": "python",
     "metadata": {},
     "outputs": [],
     "prompt_number": 37
    },
    {
     "cell_type": "heading",
     "level": 4,
     "metadata": {},
     "source": [
      "unique words in particular document "
     ]
    },
    {
     "cell_type": "code",
     "collapsed": false,
     "input": [
      "print(token_matrix[0].nnz)\n",
      "print(token_matrix[1].nnz)"
     ],
     "language": "python",
     "metadata": {},
     "outputs": [],
     "prompt_number": 38
    },
    {
     "cell_type": "code",
     "collapsed": false,
     "input": [
      "print(pd.DataFrame(token_matrix[0].todense()))"
     ],
     "language": "python",
     "metadata": {},
     "outputs": [],
     "prompt_number": 39
    },
    {
     "cell_type": "code",
     "collapsed": false,
     "input": [
      "print(\"total amount of words in first review: \")\n",
      "print(pd.DataFrame(token_matrix[0].todense()).sum(axis=1))"
     ],
     "language": "python",
     "metadata": {},
     "outputs": [],
     "prompt_number": 15
    },
    {
     "cell_type": "code",
     "collapsed": false,
     "input": [
      "print(\"unique words in first review: \")\n",
      "print(pd.DataFrame(token_matrix[0].todense()).astype(bool).sum(axis=1))"
     ],
     "language": "python",
     "metadata": {},
     "outputs": [],
     "prompt_number": 16
    },
    {
     "cell_type": "code",
     "collapsed": false,
     "input": [
      "print(cross_val_score(Pipeline([('vectorizer',  CountVectorizer()), ('classifier',  LogisticRegression())]), texts, labels))"
     ],
     "language": "python",
     "metadata": {},
     "outputs": [],
     "prompt_number": 42
    },
    {
     "cell_type": "code",
     "collapsed": false,
     "input": [
      "print(cross_val_score(Pipeline([('vectorizer',  CountVectorizer()), ('classifier',  LogisticRegression())]), texts, labels, \n",
      "                      scoring='roc_auc'))"
     ],
     "language": "python",
     "metadata": {},
     "outputs": [],
     "prompt_number": 43
    },
    {
     "cell_type": "code",
     "collapsed": false,
     "input": [
      "clf_pipeline = Pipeline(\n",
      "            [(\"vectorizer\", CountVectorizer()),\n",
      "            (\"classifier\", LogisticRegression())]\n",
      "        )\n",
      "\n",
      "\n",
      "clf_pipeline.fit(texts, labels)\n",
      "\n",
      "print(clf_pipeline)"
     ],
     "language": "python",
     "metadata": {},
     "outputs": [],
     "prompt_number": 44
    },
    {
     "cell_type": "code",
     "collapsed": false,
     "input": [
      "print(dir(clf_pipeline))"
     ],
     "language": "python",
     "metadata": {},
     "outputs": [],
     "prompt_number": 69
    },
    {
     "cell_type": "code",
     "collapsed": false,
     "input": [
      "print(clf_pipeline.steps)"
     ],
     "language": "python",
     "metadata": {},
     "outputs": [],
     "prompt_number": 83
    },
    {
     "cell_type": "code",
     "collapsed": false,
     "input": [
      "print(clf_pipeline.steps[1][1])"
     ],
     "language": "python",
     "metadata": {},
     "outputs": [],
     "prompt_number": 86
    },
    {
     "cell_type": "heading",
     "level": 4,
     "metadata": {},
     "source": [
      "get_feature_names()   list of all words"
     ]
    },
    {
     "cell_type": "code",
     "collapsed": false,
     "input": [
      "'''token_counts = CountVectorizer()\n",
      "   token_matrix = token_counts.fit_transform(texts)'''\n",
      "print(token_counts.get_feature_names()[500:600])"
     ],
     "language": "python",
     "metadata": {},
     "outputs": [],
     "prompt_number": 22
    },
    {
     "cell_type": "heading",
     "level": 4,
     "metadata": {},
     "source": [
      "Attributes: vocabulary_ : dict  A mapping of word terms to feature indices."
     ]
    },
    {
     "cell_type": "code",
     "collapsed": false,
     "input": [
      "for k in token_counts.get_feature_names()[500:600]:\n",
      "    print(token_counts.vocabulary_[k], end=\" \")"
     ],
     "language": "python",
     "metadata": {},
     "outputs": [],
     "prompt_number": 25
    },
    {
     "cell_type": "code",
     "collapsed": false,
     "input": [
      "print(len(token_counts.vocabulary_))\n",
      "print(len(token_counts.get_feature_names()))"
     ],
     "language": "python",
     "metadata": {},
     "outputs": [],
     "prompt_number": 19
    },
    {
     "cell_type": "code",
     "collapsed": false,
     "input": [
      "labe = clf_pipeline.classes_\n",
      "print(labe)"
     ],
     "language": "python",
     "metadata": {},
     "outputs": [],
     "prompt_number": 48
    },
    {
     "cell_type": "heading",
     "level": 4,
     "metadata": {},
     "source": [
      "coefficients of each feature-word"
     ]
    },
    {
     "cell_type": "code",
     "collapsed": false,
     "input": [
      "print(clf_pipeline.steps[1][1].coef_ )"
     ],
     "language": "python",
     "metadata": {},
     "outputs": [],
     "prompt_number": 87
    },
    {
     "cell_type": "code",
     "collapsed": false,
     "input": [
      "classif = LogisticRegression()\n",
      "classif.fit(token_matrix, labels)"
     ],
     "language": "python",
     "metadata": {},
     "outputs": [],
     "prompt_number": 58
    },
    {
     "cell_type": "code",
     "collapsed": false,
     "input": [
      "print(classif.coef_)\n",
      "print(len(classif.coef_[0]))"
     ],
     "language": "python",
     "metadata": {},
     "outputs": [],
     "prompt_number": 61
    },
    {
     "cell_type": "code",
     "collapsed": false,
     "input": [
      "sorted_coeff = sorted(classif.coef_[0] )\n",
      "print(sorted_coeff[0:5])\n",
      "print \n",
      "print(sorted_coeff[-5:])"
     ],
     "language": "python",
     "metadata": {},
     "outputs": [],
     "prompt_number": 65
    },
    {
     "cell_type": "heading",
     "level": 4,
     "metadata": {},
     "source": [
      "find the most important words for positive and negative class - words with absolute biggest values abs(n) "
     ]
    },
    {
     "cell_type": "code",
     "collapsed": false,
     "input": [
      "def most_informative_feature_for_binary_classification(vectorizer, classifier, n=10):\n",
      "    class_labels = classifier.classes_\n",
      "    feature_names = vectorizer.get_feature_names()\n",
      "    topn_class1 = sorted(zip(classifier.coef_[0], feature_names))[:n]\n",
      "    topn_class2 = sorted(zip(classifier.coef_[0], feature_names))[-n:]\n",
      "\n",
      "    for coef, feat in topn_class1:\n",
      "        print class_labels[0], coef, feat\n",
      "\n",
      "    print\n",
      "\n",
      "    for coef, feat in reversed(topn_class2):\n",
      "        print class_labels[1], coef, feat\n",
      "\n",
      "\n",
      "most_informative_feature_for_binary_classification(token_counts, classif)"
     ],
     "language": "python",
     "metadata": {},
     "outputs": [],
     "prompt_number": 62
    },
    {
     "cell_type": "code",
     "collapsed": false,
     "input": [
      "print token_counts.vocabulary_[u'bad']"
     ],
     "language": "python",
     "metadata": {},
     "outputs": [],
     "prompt_number": 67
    },
    {
     "cell_type": "code",
     "collapsed": true,
     "input": [],
     "language": "python",
     "metadata": {},
     "outputs": [],
     "prompt_number": null
    },
    {
     "cell_type": "code",
     "collapsed": true,
     "input": [],
     "language": "python",
     "metadata": {},
     "outputs": [],
     "prompt_number": null
    },
    {
     "cell_type": "heading",
     "level": 3,
     "metadata": {
      "collapsed": true
     },
     "source": [
      "supplementary material"
     ]
    },
    {
     "cell_type": "heading",
     "level": 4,
     "metadata": {},
     "source": [
      "article from habr site: https://habr.com/post/264339/"
     ]
    },
    {
     "cell_type": "code",
     "collapsed": true,
     "input": [
      "from sklearn.datasets import fetch_20newsgroups\n",
      "from sklearn.naive_bayes import MultinomialNB"
     ],
     "language": "python",
     "metadata": {},
     "outputs": [],
     "prompt_number": 1
    },
    {
     "cell_type": "code",
     "collapsed": false,
     "input": [
      "categories = ['alt.atheism', 'soc.religion.christian', 'comp.graphics', 'sci.med']\n",
      "twenty_train = fetch_20newsgroups(subset='train', categories=categories, shuffle=True, random_state=42)\n",
      "print(twenty_train.target_names)"
     ],
     "language": "python",
     "metadata": {},
     "outputs": [],
     "prompt_number": 4
    },
    {
     "cell_type": "code",
     "collapsed": false,
     "input": [
      "print(len(twenty_train.data))\n",
      "print(len(twenty_train.filenames))\n",
      "print((\"\\n\".join(twenty_train.data[0].split(\"\\n\")[:3])))\n",
      "print((twenty_train.target_names[twenty_train.target[0]]))"
     ],
     "language": "python",
     "metadata": {},
     "outputs": [],
     "prompt_number": 5
    },
    {
     "cell_type": "code",
     "collapsed": false,
     "input": [
      "twenty_train.target[:10]"
     ],
     "language": "python",
     "metadata": {},
     "outputs": [],
     "prompt_number": 6
    },
    {
     "cell_type": "code",
     "collapsed": false,
     "input": [
      "for t in twenty_train.target[:10]:\n",
      "    print(twenty_train.target_names[t])"
     ],
     "language": "python",
     "metadata": {},
     "outputs": [],
     "prompt_number": 7
    },
    {
     "cell_type": "code",
     "collapsed": false,
     "input": [
      "count_vect = CountVectorizer()\n",
      "X_train_counts = count_vect.fit_transform(twenty_train.data)\n",
      "X_train_counts.shape"
     ],
     "language": "python",
     "metadata": {},
     "outputs": [],
     "prompt_number": 12
    },
    {
     "cell_type": "code",
     "collapsed": false,
     "input": [
      "print(count_vect.vocabulary_.get(u'algorithm'))"
     ],
     "language": "python",
     "metadata": {},
     "outputs": [],
     "prompt_number": 13
    },
    {
     "cell_type": "code",
     "collapsed": false,
     "input": [
      "tfidf_transformer = TfidfTransformer()\n",
      "X_train_tfidf = tfidf_transformer.fit_transform(X_train_counts)\n",
      "print(X_train_tfidf.shape)"
     ],
     "language": "python",
     "metadata": {},
     "outputs": [],
     "prompt_number": 16
    },
    {
     "cell_type": "code",
     "collapsed": false,
     "input": [
      "clf_ = MultinomialNB().fit(X_train_tfidf, twenty_train.target)\n",
      "\n",
      "docs_new = ['God is love', 'OpenGL on the GPU is fast']\n",
      "X_new_counts = count_vect.transform(docs_new)\n",
      "X_new_tfidf = tfidf_transformer.transform(X_new_counts)\n",
      "\n",
      "predicted = clf_.predict(X_new_tfidf)\n",
      "\n",
      "for doc, category in zip(docs_new, predicted):\n",
      "    print('%r => %s' % (doc, twenty_train.target_names[category]))"
     ],
     "language": "python",
     "metadata": {},
     "outputs": [],
     "prompt_number": 18
    },
    {
     "cell_type": "code",
     "collapsed": false,
     "input": [
      "text_clf = Pipeline([('vect', CountVectorizer()), ('tfidf', TfidfTransformer()), ('clf', MultinomialNB()), ])\n",
      "text_clf = text_clf.fit(twenty_train.data, twenty_train.target)\n",
      "\n",
      "twenty_test = fetch_20newsgroups(subset='test', categories=categories, shuffle=True, random_state=42)\n",
      "docs_test = twenty_test.data\n",
      "predicted = text_clf.predict(docs_test)\n",
      "print(np.mean(predicted == twenty_test.target))"
     ],
     "language": "python",
     "metadata": {},
     "outputs": [],
     "prompt_number": 21
    },
    {
     "cell_type": "code",
     "collapsed": false,
     "input": [
      "text_clf_1 = Pipeline([('vect', CountVectorizer()), ('tfidf', TfidfTransformer()),\n",
      "                     ('clf', SGDClassifier(loss='hinge', penalty='l2', alpha=1e-3, n_iter=5, random_state=42)),])\n",
      "_ = text_clf_1.fit(twenty_train.data, twenty_train.target)\n",
      "predicted = text_clf_1.predict(docs_test)\n",
      "print(np.mean(predicted == twenty_test.target)) "
     ],
     "language": "python",
     "metadata": {},
     "outputs": [],
     "prompt_number": 22
    },
    {
     "cell_type": "code",
     "collapsed": false,
     "input": [
      "print(metrics.classification_report(twenty_test.target, predicted, target_names=twenty_test.target_names))"
     ],
     "language": "python",
     "metadata": {},
     "outputs": [],
     "prompt_number": 24
    },
    {
     "cell_type": "code",
     "collapsed": true,
     "input": [
      "parameters = {'vect__ngram_range': [(1, 1), (1, 2)], 'tfidf__use_idf': (True, False), 'clf__alpha': (1e-2, 1e-3),}\n",
      "gs_clf = GridSearchCV(text_clf_1, parameters, n_jobs=-1)"
     ],
     "language": "python",
     "metadata": {},
     "outputs": [],
     "prompt_number": 26
    },
    {
     "cell_type": "code",
     "collapsed": false,
     "input": [
      "gs_clf = GridSearchCV(text_clf, parameters, n_jobs=-1)\n",
      "gs_clf = gs_clf.fit(twenty_train.data[:400], twenty_train.target[:400])\n",
      "print(twenty_train.target_names[gs_clf.predict(['God is love'])])"
     ],
     "language": "python",
     "metadata": {},
     "outputs": [],
     "prompt_number": 27
    },
    {
     "cell_type": "code",
     "collapsed": false,
     "input": [
      "best_parameters, score, _ = max(gs_clf.grid_scores_, key=lambda x: x[1])\n",
      "for param_name in sorted(parameters.keys()):\n",
      "    print(\"%s: %r\" % (param_name, best_parameters[param_name]))"
     ],
     "language": "python",
     "metadata": {},
     "outputs": [],
     "prompt_number": 28
    },
    {
     "cell_type": "code",
     "collapsed": true,
     "input": [],
     "language": "python",
     "metadata": {},
     "outputs": [],
     "prompt_number": null
    }
   ],
   "metadata": {}
  }
 ]
}