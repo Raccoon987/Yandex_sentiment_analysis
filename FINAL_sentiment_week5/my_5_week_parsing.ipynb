{
 "metadata": {
  "kernelspec": {
   "display_name": "Python 3",
   "language": "python",
   "name": "python3"
  },
  "language_info": {
   "codemirror_mode": {
    "name": "ipython",
    "version": 3
   },
   "file_extension": ".py",
   "mimetype": "text/x-python",
   "name": "python",
   "nbconvert_exporter": "python",
   "pygments_lexer": "ipython3",
   "version": "3.5.4"
  },
  "name": ""
 },
 "nbformat": 3,
 "nbformat_minor": 0,
 "worksheets": [
  {
   "cells": [
    {
     "cell_type": "code",
     "collapsed": true,
     "input": [
      "import requests\n",
      "import bs4\n",
      "from multiprocessing import Pool\n",
      "import codecs\n",
      "import sys\n",
      "#import contextlib"
     ],
     "language": "python",
     "metadata": {},
     "outputs": [],
     "prompt_number": 1
    },
    {
     "cell_type": "code",
     "collapsed": true,
     "input": [
      "url_list = [\"https://en.wikipedia.org/wiki/Bias%E2%80%93variance_tradeoff\",\n",
      "            \"https://en.wikipedia.org/wiki/Category:Machine_learning_algorithms\"]"
     ],
     "language": "python",
     "metadata": {},
     "outputs": [],
     "prompt_number": 3
    },
    {
     "cell_type": "code",
     "collapsed": true,
     "input": [
      "text_1 = requests.get(url_list[0]).text\n",
      "parser_1 = bs4.BeautifulSoup(text_1, 'lxml')\n",
      "x_1 = parser_1.findAll(\"h1\")\n",
      "result_1 = [res.text for res in x_1]"
     ],
     "language": "python",
     "metadata": {},
     "outputs": [],
     "prompt_number": 4
    },
    {
     "cell_type": "code",
     "collapsed": false,
     "input": [
      "print(\"\\n\".join(result_1))"
     ],
     "language": "python",
     "metadata": {},
     "outputs": [],
     "prompt_number": 5
    },
    {
     "cell_type": "code",
     "collapsed": true,
     "input": [
      "with codecs.open('wiki_bias_h1_header.txt', 'w', 'utf-8') as output_file:\n",
      "    if sys.version_info >= (3, 0):\n",
      "        ''' python 3 '''\n",
      "        print(s, end=\"\", file=output_file)\n",
      "    else:\n",
      "        ''' python 2 '''\n",
      "        print >> output_file, u'\\n'.join(result_1)"
     ],
     "language": "python",
     "metadata": {},
     "outputs": [],
     "prompt_number": 5
    },
    {
     "cell_type": "code",
     "collapsed": true,
     "input": [
      "text_2 = requests.get(url_list[1]).text\n",
      "parser_2 = bs4.BeautifulSoup(text_2, 'lxml')\n",
      "result_2 = []\n",
      "for div in parser_2.find_all(\"div\", attrs={'id':'mw-pages'}):\n",
      "    for li in div.find_all('li'):\n",
      "        a = li.find('a')\n",
      "        #a['href'], a.get_text()\n",
      "        result_2.append(a.get_text())       "
     ],
     "language": "python",
     "metadata": {},
     "outputs": [],
     "prompt_number": 6
    },
    {
     "cell_type": "code",
     "collapsed": true,
     "input": [
      "#div = parser.find(\"div\", attrs={\"class\": \"mw-category\"})\n",
      "#pages = div.findAll('a')\n",
      "#for s in pages:     #\u0420\u0406\u0421\u2039\u0420\u0406\u0420\u0455\u0420\u0491\u0420\u0451\u0420\u0458 \u0421\u201a\u0421\u0402\u0420\u00b5\u0420\u00b1\u0421\u0453\u0420\u00b5\u0420\u0458\u0421\u2039\u0420\u2116 \u0421\u0403\u0420\u0457\u0420\u0451\u0421\u0403\u0420\u0455\u0420\u0454\n",
      "#        print s.text"
     ],
     "language": "python",
     "metadata": {},
     "outputs": [],
     "prompt_number": null
    },
    {
     "cell_type": "code",
     "collapsed": false,
     "input": [
      "print(\"\\n\".join(result_2))"
     ],
     "language": "python",
     "metadata": {},
     "outputs": [],
     "prompt_number": 7
    },
    {
     "cell_type": "code",
     "collapsed": true,
     "input": [
      "with codecs.open('machine_learning_algorithms.txt', 'w', 'utf-8') as output_file:\n",
      "    if sys.version_info >= (3, 0):\n",
      "        ''' python 3 '''\n",
      "        print(s, end=\"\", file=output_file)\n",
      "    else:\n",
      "        ''' python 2 '''\n",
      "        print >> output_file, u'\\n'.join(result_2)"
     ],
     "language": "python",
     "metadata": {},
     "outputs": [],
     "prompt_number": 15
    }
   ],
   "metadata": {}
  }
 ]
}