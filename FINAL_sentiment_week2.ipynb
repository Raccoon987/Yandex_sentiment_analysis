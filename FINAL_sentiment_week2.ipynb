{
 "metadata": {
  "kernelspec": {
   "display_name": "Python 3",
   "language": "python",
   "name": "python3"
  },
  "language_info": {
   "codemirror_mode": {
    "name": "ipython",
    "version": 3
   },
   "file_extension": ".py",
   "mimetype": "text/x-python",
   "name": "python",
   "nbconvert_exporter": "python",
   "pygments_lexer": "ipython3",
   "version": "3.5.4"
  },
  "name": ""
 },
 "nbformat": 3,
 "nbformat_minor": 0,
 "worksheets": [
  {
   "cells": [
    {
     "cell_type": "code",
     "collapsed": true,
     "input": [
      "from nltk.corpus import movie_reviews as mr\n",
      "from collections import defaultdict\n",
      "\n",
      "import nltk.corpus\n",
      "import numpy as np\n",
      "import pandas as pd\n",
      "\n",
      "from sklearn import metrics\n",
      "from sklearn.model_selection import GridSearchCV\n",
      "#deprecated: from sklearn.grid_search import GridSearchCV\n",
      "\n",
      "#modules for features creation in texts\n",
      "from sklearn.feature_extraction.text import TfidfTransformer, CountVectorizer, TfidfVectorizer\n",
      "from sklearn.linear_model import LogisticRegression, SGDClassifier\n",
      "from sklearn.svm import LinearSVC\n",
      "from sklearn.cross_validation import cross_val_score\n",
      "from sklearn.pipeline import Pipeline"
     ],
     "language": "python",
     "metadata": {},
     "outputs": [],
     "prompt_number": 1
    },
    {
     "cell_type": "markdown",
     "metadata": {},
     "source": [
      "#### CountVectorizer => Convert a collection of text documents to a matrix of token counts <br>TfidfTransformer => Transform a count matrix to a normalized tf or tf-idf representation <br> TfidfVectorizer => Convert a collection of raw documents to a matrix of TF-IDF features. Equivalent to CountVectorizer followed by TfidfTransformer.\n",
      "##### SGDClassifier => Linear classifiers (SVM, logistic regression, a.o.) with SGD training. <br> LinearSVC => Linear Support Vector Classification <br> Pipeline => Pipeline of transforms with a final estimator."
     ]
    },
    {
     "cell_type": "code",
     "collapsed": false,
     "input": [
      "print dir(mr)"
     ],
     "language": "python",
     "metadata": {},
     "outputs": [],
     "prompt_number": 10
    },
    {
     "cell_type": "code",
     "collapsed": false,
     "input": [
      "negids = mr.fileids('neg')\n",
      "posids = mr.fileids('pos')\n",
      "\n",
      "negfeats = [\" \".join(mr.words(fileids=[f])) for f in negids]\n",
      "posfeats = [\" \".join(mr.words(fileids=[f])) for f in posids]\n",
      "\n",
      "texts = negfeats + posfeats\n",
      "labels = [0] * len(negfeats) + [1] * len(posfeats)\n",
      "\n",
      "print texts[1]"
     ],
     "language": "python",
     "metadata": {},
     "outputs": [],
     "prompt_number": 11
    },
    {
     "cell_type": "code",
     "collapsed": true,
     "input": [
      "def text_classifier(vectorizer, classifier):\n",
      "    return Pipeline(\n",
      "            [(\"vectorizer\", vectorizer),\n",
      "             (\"classifier\", classifier)]\n",
      "        )"
     ],
     "language": "python",
     "metadata": {},
     "outputs": [],
     "prompt_number": 12
    },
    {
     "cell_type": "code",
     "collapsed": false,
     "input": [
      "for vect in [CountVectorizer, TfidfVectorizer]:\n",
      "    score = cross_val_score(text_classifier(vect(),  LogisticRegression()), texts, labels)\n",
      "    print vect, \" mean: %f, std: %f \" %(score.mean(), score.std())"
     ],
     "language": "python",
     "metadata": {},
     "outputs": [],
     "prompt_number": 13
    },
    {
     "cell_type": "code",
     "collapsed": false,
     "input": [
      "print \"min_df=10: \", cross_val_score(text_classifier(CountVectorizer(min_df=10),  LogisticRegression()), texts, labels)\n",
      "print \"min_df=50: \", cross_val_score(text_classifier(CountVectorizer(min_df=50),  LogisticRegression()), texts, labels)"
     ],
     "language": "python",
     "metadata": {},
     "outputs": [],
     "prompt_number": 14
    },
    {
     "cell_type": "code",
     "collapsed": false,
     "input": [
      "for cls in [LogisticRegression, LinearSVC, SGDClassifier]:\n",
      "    print cls, cross_val_score(text_classifier(CountVectorizer(),  cls()), texts, labels).mean()"
     ],
     "language": "python",
     "metadata": {},
     "outputs": [],
     "prompt_number": 22
    },
    {
     "cell_type": "code",
     "collapsed": false,
     "input": [
      "stop_words =  nltk.corpus.stopwords.words('english')\n",
      "print type(stop_words)"
     ],
     "language": "python",
     "metadata": {},
     "outputs": [],
     "prompt_number": 17
    },
    {
     "cell_type": "code",
     "collapsed": false,
     "input": [
      "print stop_words\n",
      "print len(stop_words)"
     ],
     "language": "python",
     "metadata": {},
     "outputs": [],
     "prompt_number": 18
    },
    {
     "cell_type": "code",
     "collapsed": false,
     "input": [
      "print CountVectorizer().get_stop_words()"
     ],
     "language": "python",
     "metadata": {},
     "outputs": [],
     "prompt_number": 19
    },
    {
     "cell_type": "code",
     "collapsed": false,
     "input": [
      "print \"corpora stop words \", cross_val_score(text_classifier(CountVectorizer(stop_words = stop_words, analyzer = 'word'),  \n",
      "                                                             cls()), texts, labels).mean()\n",
      "print \"sklearn stop words \", cross_val_score(text_classifier(CountVectorizer(stop_words = \"english\"),  \n",
      "                                                             cls()), texts, labels).mean()"
     ],
     "language": "python",
     "metadata": {},
     "outputs": [],
     "prompt_number": 20
    },
    {
     "cell_type": "code",
     "collapsed": false,
     "input": [
      "print \"word bigram: \", cross_val_score(text_classifier(CountVectorizer(ngram_range=(1, 2)),  \n",
      "                                                       LogisticRegression()), texts, labels)\n",
      "print \"character n-gram: \", cross_val_score(text_classifier(CountVectorizer(analyzer='char_wb', ngram_range=(1, 5)),  \n",
      "                                                            LogisticRegression()), texts, labels)"
     ],
     "language": "python",
     "metadata": {},
     "outputs": [],
     "prompt_number": 21
    },
    {
     "cell_type": "code",
     "collapsed": true,
     "input": [],
     "language": "python",
     "metadata": {},
     "outputs": [],
     "prompt_number": null
    },
    {
     "cell_type": "code",
     "collapsed": false,
     "input": [
      "corpus = [\n",
      "    \"The blue dog Blue\",\n",
      "    \"Green the green cat\",\n",
      "    \"The green mouse\",\n",
      "]\n",
      "\n",
      "# CountVectorizer character 2-grams with word boundaries\n",
      "vectorizer = CountVectorizer(analyzer='char_wb', ngram_range=(1, 5), min_df=1) \n",
      "X = vectorizer.fit_transform(corpus)\n",
      "vectorizer.get_feature_names()"
     ],
     "language": "python",
     "metadata": {},
     "outputs": [],
     "prompt_number": 9
    },
    {
     "cell_type": "code",
     "collapsed": true,
     "input": [],
     "language": "python",
     "metadata": {},
     "outputs": [],
     "prompt_number": null
    }
   ],
   "metadata": {}
  }
 ]
}